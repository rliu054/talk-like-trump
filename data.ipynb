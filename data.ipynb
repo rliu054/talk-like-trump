{
 "cells": [
  {
   "cell_type": "code",
   "execution_count": 6,
   "metadata": {},
   "outputs": [],
   "source": [
    "import glob\n",
    "import re\n",
    "import json"
   ]
  },
  {
   "cell_type": "code",
   "execution_count": 52,
   "metadata": {},
   "outputs": [
    {
     "name": "stdout",
     "output_type": "stream",
     "text": [
      "total_size 32886\n",
      "train size: 29597, val size: 1645, test size: 1644\n"
     ]
    }
   ],
   "source": [
    "max_len = 0\n",
    "total_size = 0\n",
    "\n",
    "clean_file = 'clean.txt'\n",
    "full_dataset = []\n",
    "\n",
    "file_list = glob.glob('./data/*.json')\n",
    "with open(clean_file, 'w', encoding='utf8') as out_file:\n",
    "    for file in file_list:\n",
    "        with open(file, 'r', encoding='utf8') as in_file:\n",
    "            f_json = json.load(in_file)\n",
    "            for i, resp in enumerate(f_json):\n",
    "                if not resp['is_retweet']:\n",
    "                    line = resp['text']\n",
    "                    line = re.sub('(http|www|@|#)\\S+', '', resp['text'])\n",
    "                    line = re.sub('[^\\w\\s]', '', line)\n",
    "                    total_size += 1\n",
    "                    out_file.write(line.lower() + \"\\n\")\n",
    "                    full_dataset.append(line.lower())\n",
    "\n",
    "print('total_size', total_size)\n",
    "\n",
    "train_size = int(0.9 * total_size)\n",
    "val_size = int(0.05 * total_size)\n",
    "test_size = total_size - train_size - val_size\n",
    "\n",
    "train_set, val_set, test_set = torch.utils.data.random_split(full_dataset, [train_size, test_size, val_size])\n",
    "\n",
    "print('train size: {}, val size: {}, test size: {}'.format(len(train_set), len(val_set), len(test_set)))"
   ]
  },
  {
   "cell_type": "code",
   "execution_count": 51,
   "metadata": {},
   "outputs": [],
   "source": []
  },
  {
   "cell_type": "code",
   "execution_count": null,
   "metadata": {},
   "outputs": [],
   "source": []
  }
 ],
 "metadata": {
  "kernelspec": {
   "display_name": "Python 3",
   "language": "python",
   "name": "python3"
  },
  "language_info": {
   "codemirror_mode": {
    "name": "ipython",
    "version": 3
   },
   "file_extension": ".py",
   "mimetype": "text/x-python",
   "name": "python",
   "nbconvert_exporter": "python",
   "pygments_lexer": "ipython3",
   "version": "3.7.0"
  }
 },
 "nbformat": 4,
 "nbformat_minor": 2
}
